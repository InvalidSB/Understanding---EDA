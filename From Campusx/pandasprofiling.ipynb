{
 "cells": [
  {
   "cell_type": "code",
   "execution_count": 1,
   "metadata": {},
   "outputs": [],
   "source": [
    "import pandas as pd"
   ]
  },
  {
   "cell_type": "code",
   "execution_count": 2,
   "metadata": {},
   "outputs": [],
   "source": [
    "titanic = pd.read_csv('../Dataset/titanicdata.csv')\n"
   ]
  },
  {
   "cell_type": "code",
   "execution_count": 3,
   "metadata": {},
   "outputs": [
    {
     "name": "stdout",
     "output_type": "stream",
     "text": [
      "Collecting pandas-profiling\n",
      "  Downloading pandas_profiling-3.3.0-py2.py3-none-any.whl (268 kB)\n",
      "\u001b[K     |████████████████████████████████| 268 kB 166 kB/s eta 0:00:01\n",
      "\u001b[?25hCollecting visions[type_image_path]==0.7.5\n",
      "  Downloading visions-0.7.5-py3-none-any.whl (102 kB)\n",
      "\u001b[K     |████████████████████████████████| 102 kB 8.2 MB/s eta 0:00:01\n",
      "\u001b[?25hCollecting tangled-up-in-unicode==0.2.0\n",
      "  Downloading tangled_up_in_unicode-0.2.0-py3-none-any.whl (4.7 MB)\n",
      "\u001b[K     |████████████████████████████████| 4.7 MB 3.3 MB/s eta 0:00:01\n",
      "\u001b[?25hRequirement already satisfied: matplotlib<3.6,>=3.2 in /home/sujan/.local/lib/python3.8/site-packages (from pandas-profiling) (3.4.2)\n",
      "Collecting missingno<0.6,>=0.4.2\n",
      "  Downloading missingno-0.5.1-py3-none-any.whl (8.7 kB)\n",
      "Requirement already satisfied: requests<2.29,>=2.24.0 in /home/sujan/.local/lib/python3.8/site-packages (from pandas-profiling) (2.25.0)\n",
      "Requirement already satisfied: statsmodels<0.14,>=0.13.2 in /home/sujan/.local/lib/python3.8/site-packages (from pandas-profiling) (0.13.2)\n",
      "Requirement already satisfied: numpy<1.24,>=1.16.0 in /home/sujan/.local/lib/python3.8/site-packages (from pandas-profiling) (1.19.3)\n",
      "Requirement already satisfied: PyYAML<6.1,>=5.0.0 in /usr/lib/python3/dist-packages (from pandas-profiling) (5.3.1)\n",
      "Collecting htmlmin==0.1.12\n",
      "  Downloading htmlmin-0.1.12.tar.gz (19 kB)\n",
      "Collecting pydantic<1.10,>=1.8.1\n",
      "  Downloading pydantic-1.9.2-cp38-cp38-manylinux_2_17_x86_64.manylinux2014_x86_64.whl (12.8 MB)\n",
      "\u001b[K     |████████████████████████████████| 12.8 MB 1.5 MB/s eta 0:00:01\n",
      "\u001b[?25hCollecting multimethod<1.9,>=1.4\n",
      "  Downloading multimethod-1.8-py3-none-any.whl (9.8 kB)\n",
      "Requirement already satisfied: seaborn<0.12,>=0.10.1 in /home/sujan/.local/lib/python3.8/site-packages (from pandas-profiling) (0.11.1)\n",
      "Requirement already satisfied: jinja2<3.2,>=2.11.1 in /home/sujan/.local/lib/python3.8/site-packages (from pandas-profiling) (3.0.3)\n",
      "Collecting phik<0.13,>=0.11.1\n",
      "  Downloading phik-0.12.2-cp38-cp38-manylinux_2_17_x86_64.manylinux2014_x86_64.whl (696 kB)\n",
      "\u001b[K     |████████████████████████████████| 696 kB 1.7 MB/s eta 0:00:01\n",
      "\u001b[?25hCollecting joblib~=1.1.0\n",
      "  Downloading joblib-1.1.1-py2.py3-none-any.whl (309 kB)\n",
      "\u001b[K     |████████████████████████████████| 309 kB 7.1 MB/s eta 0:00:01\n",
      "\u001b[?25hRequirement already satisfied: pandas!=1.4.0,<1.5,>1.1 in /home/sujan/.local/lib/python3.8/site-packages (from pandas-profiling) (1.2.4)\n",
      "Requirement already satisfied: scipy<1.10,>=1.4.1 in /home/sujan/.local/lib/python3.8/site-packages (from pandas-profiling) (1.6.3)\n",
      "Requirement already satisfied: tqdm<4.65,>=4.48.2 in /home/sujan/.local/lib/python3.8/site-packages (from pandas-profiling) (4.62.3)\n",
      "Collecting networkx>=2.4\n",
      "  Downloading networkx-2.8.7-py3-none-any.whl (2.0 MB)\n",
      "\u001b[K     |████████████████████████████████| 2.0 MB 1.3 MB/s eta 0:00:01\n",
      "\u001b[?25hRequirement already satisfied: attrs>=19.3.0 in /home/sujan/.local/lib/python3.8/site-packages (from visions[type_image_path]==0.7.5->pandas-profiling) (21.1.0)\n",
      "Requirement already satisfied: Pillow; extra == \"type_image_path\" in /usr/lib/python3/dist-packages (from visions[type_image_path]==0.7.5->pandas-profiling) (7.0.0)\n",
      "Collecting imagehash; extra == \"type_image_path\"\n",
      "  Downloading ImageHash-4.3.1-py2.py3-none-any.whl (296 kB)\n",
      "\u001b[K     |████████████████████████████████| 296 kB 5.8 MB/s eta 0:00:01\n",
      "\u001b[?25hRequirement already satisfied: cycler>=0.10 in /home/sujan/.local/lib/python3.8/site-packages (from matplotlib<3.6,>=3.2->pandas-profiling) (0.10.0)\n",
      "Requirement already satisfied: pyparsing>=2.2.1 in /usr/lib/python3/dist-packages (from matplotlib<3.6,>=3.2->pandas-profiling) (2.4.6)\n",
      "Requirement already satisfied: python-dateutil>=2.7 in /usr/lib/python3/dist-packages (from matplotlib<3.6,>=3.2->pandas-profiling) (2.7.3)\n",
      "Requirement already satisfied: kiwisolver>=1.0.1 in /home/sujan/.local/lib/python3.8/site-packages (from matplotlib<3.6,>=3.2->pandas-profiling) (1.3.1)\n",
      "Requirement already satisfied: certifi>=2017.4.17 in /usr/lib/python3/dist-packages (from requests<2.29,>=2.24.0->pandas-profiling) (2019.11.28)\n",
      "Requirement already satisfied: chardet<4,>=3.0.2 in /usr/lib/python3/dist-packages (from requests<2.29,>=2.24.0->pandas-profiling) (3.0.4)\n",
      "Requirement already satisfied: urllib3<1.27,>=1.21.1 in /usr/lib/python3/dist-packages (from requests<2.29,>=2.24.0->pandas-profiling) (1.25.8)\n",
      "Requirement already satisfied: idna<3,>=2.5 in /usr/lib/python3/dist-packages (from requests<2.29,>=2.24.0->pandas-profiling) (2.8)\n",
      "Requirement already satisfied: patsy>=0.5.2 in /home/sujan/.local/lib/python3.8/site-packages (from statsmodels<0.14,>=0.13.2->pandas-profiling) (0.5.2)\n",
      "Requirement already satisfied: packaging>=21.3 in /home/sujan/.local/lib/python3.8/site-packages (from statsmodels<0.14,>=0.13.2->pandas-profiling) (21.3)\n",
      "Requirement already satisfied: typing-extensions>=3.7.4.3 in /home/sujan/.local/lib/python3.8/site-packages (from pydantic<1.10,>=1.8.1->pandas-profiling) (4.0.1)\n",
      "Requirement already satisfied: MarkupSafe>=2.0 in /home/sujan/.local/lib/python3.8/site-packages (from jinja2<3.2,>=2.11.1->pandas-profiling) (2.0.1)\n",
      "Requirement already satisfied: pytz>=2017.3 in /usr/lib/python3/dist-packages (from pandas!=1.4.0,<1.5,>1.1->pandas-profiling) (2019.3)\n",
      "Collecting PyWavelets\n",
      "  Downloading PyWavelets-1.4.1-cp38-cp38-manylinux_2_17_x86_64.manylinux2014_x86_64.whl (6.9 MB)\n",
      "\u001b[K     |████████████████████████████████| 6.9 MB 5.1 MB/s eta 0:00:01\n",
      "\u001b[?25hRequirement already satisfied: six in /usr/lib/python3/dist-packages (from cycler>=0.10->matplotlib<3.6,>=3.2->pandas-profiling) (1.14.0)\n",
      "Building wheels for collected packages: htmlmin\n",
      "  Building wheel for htmlmin (setup.py) ... \u001b[?25ldone\n",
      "\u001b[?25h  Created wheel for htmlmin: filename=htmlmin-0.1.12-py3-none-any.whl size=27084 sha256=56e880987939f0b8f2ed93384a88febc1173aa1ab15fa2b9a4baf301c3d18540\n",
      "  Stored in directory: /home/sujan/.cache/pip/wheels/23/14/6e/4be5bfeeb027f4939a01764b48edd5996acf574b0913fe5243\n",
      "Successfully built htmlmin\n",
      "Installing collected packages: multimethod, networkx, tangled-up-in-unicode, PyWavelets, imagehash, visions, missingno, htmlmin, pydantic, joblib, phik, pandas-profiling\n",
      "  Attempting uninstall: joblib\n",
      "    Found existing installation: joblib 1.0.1\n",
      "    Uninstalling joblib-1.0.1:\n",
      "      Successfully uninstalled joblib-1.0.1\n",
      "Successfully installed PyWavelets-1.4.1 htmlmin-0.1.12 imagehash-4.3.1 joblib-1.1.1 missingno-0.5.1 multimethod-1.8 networkx-2.8.7 pandas-profiling-3.3.0 phik-0.12.2 pydantic-1.9.2 tangled-up-in-unicode-0.2.0 visions-0.7.5\n"
     ]
    }
   ],
   "source": [
    "!pip install pandas-profiling"
   ]
  },
  {
   "cell_type": "code",
   "execution_count": 4,
   "metadata": {},
   "outputs": [
    {
     "name": "stderr",
     "output_type": "stream",
     "text": [
      "Summarize dataset: 100%|██████████| 52/52 [00:06<00:00,  7.45it/s, Completed]                       \n",
      "Generate report structure: 100%|██████████| 1/1 [00:03<00:00,  3.32s/it]\n",
      "Render HTML: 100%|██████████| 1/1 [00:01<00:00,  1.35s/it]\n",
      "Export report to file: 100%|██████████| 1/1 [00:00<00:00, 130.07it/s]\n"
     ]
    }
   ],
   "source": [
    "from pandas_profiling import ProfileReport\n",
    "prof = ProfileReport(titanic)\n",
    "prof.to_file(output_file='analyzed.html')"
   ]
  },
  {
   "cell_type": "markdown",
   "metadata": {},
   "source": [
    "# Finished"
   ]
  }
 ],
 "metadata": {
  "kernelspec": {
   "display_name": "Python 3.8.10 64-bit",
   "language": "python",
   "name": "python3"
  },
  "language_info": {
   "codemirror_mode": {
    "name": "ipython",
    "version": 3
   },
   "file_extension": ".py",
   "mimetype": "text/x-python",
   "name": "python",
   "nbconvert_exporter": "python",
   "pygments_lexer": "ipython3",
   "version": "3.8.10"
  },
  "orig_nbformat": 4,
  "vscode": {
   "interpreter": {
    "hash": "e7370f93d1d0cde622a1f8e1c04877d8463912d04d973331ad4851f04de6915a"
   }
  }
 },
 "nbformat": 4,
 "nbformat_minor": 2
}
